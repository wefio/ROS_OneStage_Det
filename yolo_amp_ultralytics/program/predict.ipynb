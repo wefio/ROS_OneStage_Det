{
 "cells": [
  {
   "cell_type": "code",
   "execution_count": 2,
   "metadata": {},
   "outputs": [
    {
     "name": "stdout",
     "output_type": "stream",
     "text": [
      "\n",
      "image 1/1 c:\\Downloads\\yolo_amp_ultralytics\\ultralytics-8.3.55\\detect-footage.jpg: 512x640 5 persons, 8 cars, 5 motorcycles, 57.0ms\n",
      "Speed: 3.2ms preprocess, 57.0ms inference, 87.2ms postprocess per image at shape (1, 3, 512, 640)\n",
      "Results saved to \u001b[1mruns\\detect\\predict5\u001b[0m\n"
     ]
    }
   ],
   "source": [
    "from ultralytics import YOLO\n",
    "yolo=YOLO(model='yolo11n.pt', task='detect')\n",
    "result = yolo(source='detect-footage.jpg', save=True)"
   ]
  },
  {
   "cell_type": "code",
   "execution_count": 3,
   "metadata": {},
   "outputs": [
    {
     "data": {
      "text/plain": [
       "[{0: 'person',\n",
       "  1: 'bicycle',\n",
       "  2: 'car',\n",
       "  3: 'motorcycle',\n",
       "  4: 'airplane',\n",
       "  5: 'bus',\n",
       "  6: 'train',\n",
       "  7: 'truck',\n",
       "  8: 'boat',\n",
       "  9: 'traffic light',\n",
       "  10: 'fire hydrant',\n",
       "  11: 'stop sign',\n",
       "  12: 'parking meter',\n",
       "  13: 'bench',\n",
       "  14: 'bird',\n",
       "  15: 'cat',\n",
       "  16: 'dog',\n",
       "  17: 'horse',\n",
       "  18: 'sheep',\n",
       "  19: 'cow',\n",
       "  20: 'elephant',\n",
       "  21: 'bear',\n",
       "  22: 'zebra',\n",
       "  23: 'giraffe',\n",
       "  24: 'backpack',\n",
       "  25: 'umbrella',\n",
       "  26: 'handbag',\n",
       "  27: 'tie',\n",
       "  28: 'suitcase',\n",
       "  29: 'frisbee',\n",
       "  30: 'skis',\n",
       "  31: 'snowboard',\n",
       "  32: 'sports ball',\n",
       "  33: 'kite',\n",
       "  34: 'baseball bat',\n",
       "  35: 'baseball glove',\n",
       "  36: 'skateboard',\n",
       "  37: 'surfboard',\n",
       "  38: 'tennis racket',\n",
       "  39: 'bottle',\n",
       "  40: 'wine glass',\n",
       "  41: 'cup',\n",
       "  42: 'fork',\n",
       "  43: 'knife',\n",
       "  44: 'spoon',\n",
       "  45: 'bowl',\n",
       "  46: 'banana',\n",
       "  47: 'apple',\n",
       "  48: 'sandwich',\n",
       "  49: 'orange',\n",
       "  50: 'broccoli',\n",
       "  51: 'carrot',\n",
       "  52: 'hot dog',\n",
       "  53: 'pizza',\n",
       "  54: 'donut',\n",
       "  55: 'cake',\n",
       "  56: 'chair',\n",
       "  57: 'couch',\n",
       "  58: 'potted plant',\n",
       "  59: 'bed',\n",
       "  60: 'dining table',\n",
       "  61: 'toilet',\n",
       "  62: 'tv',\n",
       "  63: 'laptop',\n",
       "  64: 'mouse',\n",
       "  65: 'remote',\n",
       "  66: 'keyboard',\n",
       "  67: 'cell phone',\n",
       "  68: 'microwave',\n",
       "  69: 'oven',\n",
       "  70: 'toaster',\n",
       "  71: 'sink',\n",
       "  72: 'refrigerator',\n",
       "  73: 'book',\n",
       "  74: 'clock',\n",
       "  75: 'vase',\n",
       "  76: 'scissors',\n",
       "  77: 'teddy bear',\n",
       "  78: 'hair drier',\n",
       "  79: 'toothbrush'}]"
      ]
     },
     "metadata": {},
     "output_type": "display_data"
    },
    {
     "data": {
      "text/plain": [
       "tensor([2., 2., 2., 2., 2., 0., 0., 2., 0., 3., 3., 2., 0., 3., 3., 2., 3., 0.], device='cuda:0')"
      ]
     },
     "metadata": {},
     "output_type": "display_data"
    },
    {
     "data": {
      "text/plain": [
       "tensor([[ 787.6762,  440.4761,  116.2209,  113.0081],\n",
       "        [ 581.1337,  366.0997,   96.0654,   76.5544],\n",
       "        [ 694.9819,  364.3299,   94.8367,   92.3566],\n",
       "        [ 392.5059, 1050.7057,  383.0864,  334.1138],\n",
       "        [ 858.4011,  338.7401,   73.6077,   61.6734],\n",
       "        [1230.8801,  670.6456,   69.0823,  127.1414],\n",
       "        [1159.5955,  628.2656,   62.8943,  134.3052],\n",
       "        [ 884.5389,  488.6636,  125.7248,  121.0544],\n",
       "        [ 960.8378,  675.2803,   67.9453,  125.8909],\n",
       "        [ 961.0309,  723.6763,   89.2323,  104.2276],\n",
       "        [1122.9250,  770.1787,   50.1107,   78.9581],\n",
       "        [ 701.1212,  275.3979,   68.3029,   41.0478],\n",
       "        [1158.6497,  602.2151,   61.4071,   81.0490],\n",
       "        [1119.5535,  733.4414,   61.5382,  152.0403],\n",
       "        [1489.8628,  839.3261,  195.2576,  225.3650],\n",
       "        [ 909.6467,  176.8313,   29.9225,   21.0332],\n",
       "        [1230.9095,  724.6008,   60.6548,  102.3961],\n",
       "        [1539.1162,  693.8491,   63.0251,  124.4360]], device='cuda:0')"
      ]
     },
     "metadata": {},
     "output_type": "display_data"
    }
   ],
   "source": [
    "display([result[0].names])\n",
    "display(result[0].boxes.cls)\n",
    "display(result[0].boxes.xywh)"
   ]
  },
  {
   "cell_type": "code",
   "execution_count": 6,
   "metadata": {},
   "outputs": [
    {
     "data": {
      "text/plain": [
       "(tensor(787.6762, device='cuda:0'), tensor(440.4761, device='cuda:0'))"
      ]
     },
     "metadata": {},
     "output_type": "display_data"
    }
   ],
   "source": [
    "def get_icon_id(icon_name:str): #指定名字的id\n",
    "    for i in result[0].names:\n",
    "        if result[0].names[i] == icon_name:\n",
    "            return i\n",
    "\n",
    "def get_cls_no(icon_id:int):    #指定id第几位出现\n",
    "    for index,item in enumerate(result[0].boxes.cls):\n",
    "        if item == icon_id:\n",
    "            return index\n",
    "\n",
    "def get_xy(cls_no:int):   #指定第几位的坐标\n",
    "    x = result[0].boxes.xywh[cls_no][0]\n",
    "    y = result[0].boxes.xywh[cls_no][1]\n",
    "    return x,y\n",
    "\n",
    "cls_no = get_xy(0)\n",
    "display(cls_no)"
   ]
  },
  {
   "cell_type": "code",
   "execution_count": 5,
   "metadata": {},
   "outputs": [
    {
     "name": "stdout",
     "output_type": "stream",
     "text": [
      "1\n",
      "2\n"
     ]
    }
   ],
   "source": [
    "class Example:\n",
    "    count = 0  # 类变量\n",
    "    \n",
    "    @classmethod\n",
    "    def increment_count(cls):\n",
    "        cls.count += 1  # 修改类变量\n",
    "        \n",
    "    @classmethod\n",
    "    def get_count(cls):\n",
    "        return cls.count  # 返回类变量的值\n",
    "\n",
    "# 直接通过类调用方法\n",
    "Example.increment_count()\n",
    "print(Example.get_count())  # 输出: 1\n",
    "\n",
    "# 再次调用\n",
    "Example.increment_count()\n",
    "print(Example.get_count())  # 输出: 2"
   ]
  }
 ],
 "metadata": {
  "kernelspec": {
   "display_name": "yolo",
   "language": "python",
   "name": "python3"
  },
  "language_info": {
   "codemirror_mode": {
    "name": "ipython",
    "version": 3
   },
   "file_extension": ".py",
   "mimetype": "text/x-python",
   "name": "python",
   "nbconvert_exporter": "python",
   "pygments_lexer": "ipython3",
   "version": "3.12.9"
  }
 },
 "nbformat": 4,
 "nbformat_minor": 2
}
